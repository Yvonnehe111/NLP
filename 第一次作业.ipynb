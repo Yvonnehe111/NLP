{
 "cells": [
  {
   "cell_type": "code",
   "execution_count": null,
   "metadata": {},
   "outputs": [
    {
     "name": "stderr",
     "output_type": "stream",
     "text": [
      "[nltk_data] Downloading package punkt to\n",
      "[nltk_data]     C:\\Users\\何明璞\\AppData\\Roaming\\nltk_data...\n",
      "[nltk_data]   Package punkt is already up-to-date!\n",
      "[nltk_data] Downloading package stopwords to\n",
      "[nltk_data]     C:\\Users\\何明璞\\AppData\\Roaming\\nltk_data...\n",
      "[nltk_data]   Package stopwords is already up-to-date!\n",
      "[nltk_data] Downloading package gutenberg to\n",
      "[nltk_data]     C:\\Users\\何明璞\\AppData\\Roaming\\nltk_data...\n",
      "[nltk_data]   Package gutenberg is already up-to-date!\n",
      "[nltk_data] Downloading package punkt_tab to\n",
      "[nltk_data]     C:\\Users\\何明璞\\AppData\\Roaming\\nltk_data...\n",
      "[nltk_data]   Package punkt_tab is already up-to-date!\n",
      "[nltk_data] Downloading package wordnet to\n",
      "[nltk_data]     C:\\Users\\何明璞\\AppData\\Roaming\\nltk_data...\n",
      "[nltk_data]   Package wordnet is already up-to-date!\n",
      "[nltk_data] Downloading package omw-1.4 to\n",
      "[nltk_data]     C:\\Users\\何明璞\\AppData\\Roaming\\nltk_data...\n",
      "[nltk_data]   Package omw-1.4 is already up-to-date!\n"
     ]
    },
    {
     "name": "stdout",
     "output_type": "stream",
     "text": [
      "0.00018780798424437953\n",
      "9.860482596782658\n"
     ]
    }
   ],
   "source": [
    "import nltk\n",
    "from nltk.corpus import gutenberg\n",
    "from nltk.tokenize import word_tokenize\n",
    "from nltk.corpus import stopwords\n",
    "\n",
    "from collections import Counter\n",
    "import string\n",
    "import math\n",
    "\n",
    "# Ensure you have the necessary datasets and resources\n",
    "nltk.download('punkt')\n",
    "nltk.download('stopwords')\n",
    "nltk.download('gutenberg')\n",
    "nltk.download('punkt_tab')\n",
    "nltk.download('wordnet')\n",
    "nltk.download('omw-1.4')\n",
    "\n",
    "# Load text\n",
    "content = gutenberg.fileids()\n",
    "text = gutenberg.raw(content)\n",
    "\n",
    "# Tokenize the text, convert to lower case, and remove punctuation\n",
    "tokens = word_tokenize(text.lower())\n",
    "tokens = [word for word in tokens if word not in string.punctuation]\n",
    "\n",
    "\n",
    "# Count the frequency of each word\n",
    "word_freq = Counter(tokens)\n",
    "\n",
    "# Prepare data for plotting\n",
    "frequencies = [freq for (word, freq) in word_freq.items()]\n",
    "\n",
    "# entropy\n",
    "entropy = 0\n",
    "for i in frequencies:\n",
    "    proba = i/sum(frequencies)\n",
    "    entropy += -proba*math.log2(proba)\n",
    "\n",
    "# average entropy\n",
    "avg_entropy = entropy / len(frequencies)\n",
    "print(entropy)\n",
    "print(avg_entropy)\n"
   ]
  },
  {
   "cell_type": "code",
   "execution_count": null,
   "metadata": {},
   "outputs": [
    {
     "name": "stdout",
     "output_type": "stream",
     "text": [
      "4.099522452120684\n",
      "0.15767394046618016\n"
     ]
    }
   ],
   "source": [
    "# Load text\n",
    "content = gutenberg.fileids()\n",
    "text = gutenberg.raw(content)\n",
    "\n",
    "# Process the text\n",
    "letters = ''.join([char.lower() for char in text if 65 <= ord(char) <= 90 or 97 <= ord(char) <= 120])\n",
    "letter_freq = Counter(letters)\n",
    "\n",
    "frequencies = [freq for (word, freq) in letter_freq.items()]\n",
    "entropy = 0\n",
    "for i in frequencies:\n",
    "    proba = i/sum(frequencies)\n",
    "    entropy += -proba*math.log2(proba)\n",
    "    \n",
    "# entropy & everage entropy\n",
    "avg_entropy = entropy / len(frequencies)\n",
    "print(entropy)\n",
    "print(avg_entropy)"
   ]
  },
  {
   "cell_type": "code",
   "execution_count": null,
   "metadata": {},
   "outputs": [
    {
     "ename": "KeyboardInterrupt",
     "evalue": "",
     "output_type": "error",
     "traceback": [
      "\u001b[1;31m---------------------------------------------------------------------------\u001b[0m",
      "\u001b[1;31mKeyboardInterrupt\u001b[0m                         Traceback (most recent call last)",
      "Cell \u001b[1;32mIn[2], line 27\u001b[0m\n\u001b[0;32m     25\u001b[0m             line \u001b[38;5;241m=\u001b[39m file\u001b[38;5;241m.\u001b[39mreadline()\n\u001b[0;32m     26\u001b[0m             \u001b[38;5;28;01mfor\u001b[39;00m word \u001b[38;5;129;01min\u001b[39;00m line:\n\u001b[1;32m---> 27\u001b[0m                 \u001b[38;5;28;01mif\u001b[39;00m is_chinese(word):\n\u001b[0;32m     28\u001b[0m                     text \u001b[38;5;241m=\u001b[39m text \u001b[38;5;241m+\u001b[39m word\n\u001b[0;32m     29\u001b[0m text_processed \u001b[38;5;241m=\u001b[39m remove_punctuation(text)\n",
      "Cell \u001b[1;32mIn[2], line 7\u001b[0m, in \u001b[0;36mis_chinese\u001b[1;34m(word)\u001b[0m\n\u001b[0;32m      4\u001b[0m \u001b[38;5;28;01mimport\u001b[39;00m \u001b[38;5;21;01mre\u001b[39;00m\n\u001b[0;32m      5\u001b[0m \u001b[38;5;28;01mfrom\u001b[39;00m \u001b[38;5;21;01mcollections\u001b[39;00m \u001b[38;5;28;01mimport\u001b[39;00m Counter\n\u001b[1;32m----> 7\u001b[0m \u001b[38;5;28;01mdef\u001b[39;00m \u001b[38;5;21mis_chinese\u001b[39m(word):\n\u001b[0;32m      8\u001b[0m     pattern \u001b[38;5;241m=\u001b[39m re\u001b[38;5;241m.\u001b[39mcompile(\u001b[38;5;124mr\u001b[39m\u001b[38;5;124m'\u001b[39m\u001b[38;5;124m^[\u001b[39m\u001b[38;5;124m\\\u001b[39m\u001b[38;5;124mu4e00-\u001b[39m\u001b[38;5;124m\\\u001b[39m\u001b[38;5;124mu9fa5\u001b[39m\u001b[38;5;124m\\\u001b[39m\u001b[38;5;124mu3000-\u001b[39m\u001b[38;5;124m\\\u001b[39m\u001b[38;5;124mu303F\u001b[39m\u001b[38;5;124m\\\u001b[39m\u001b[38;5;124muFF00-\u001b[39m\u001b[38;5;124m\\\u001b[39m\u001b[38;5;124muFFEF]+$\u001b[39m\u001b[38;5;124m'\u001b[39m)\n\u001b[0;32m      9\u001b[0m     \u001b[38;5;28;01mreturn\u001b[39;00m \u001b[38;5;28mbool\u001b[39m(pattern\u001b[38;5;241m.\u001b[39mmatch(word))\n",
      "\u001b[1;31mKeyboardInterrupt\u001b[0m: "
     ]
    }
   ],
   "source": [
    "import os\n",
    "import jieba\n",
    "import unicodedata\n",
    "import re\n",
    "from collections import Counter\n",
    "\n",
    "def is_chinese(word):\n",
    "    pattern = re.compile(r'^[\\u4e00-\\u9fa5\\u3000-\\u303F\\uFF00-\\uFFEF]+$')\n",
    "    return bool(pattern.match(word))\n",
    "def remove_punctuation(text):\n",
    "    return re.sub(r'[^\\u4e00-\\u9fa5\\w\\s]', '', text)\n",
    "\n",
    "text=\"\"\n",
    "for m in [\"A\",\"B\",\"C\",\"D\",\"E\",\"F\",\"G\",\"H\",\"I\",\"J\",\"K\",\"L\",\"M\"]:\n",
    "    input = r\"C:\\wiki_zh_2019\\wiki_zh\\A\"\n",
    "    folder_path = input + m\n",
    "    for i in range(10):\n",
    "        for n in range(10):\n",
    "            file_path = os.path.join(folder_path,str(\"wiki_%s%s\"%(str(i),str(n))))\n",
    "            if os.path.exists(file_path):\n",
    "                file = open(file_path,\"r\",encoding=\"utf-8\")\n",
    "            else:\n",
    "                line = \"\"\n",
    "                break\n",
    "            line = file.readline()\n",
    "            for word in line:\n",
    "                if is_chinese(word):\n",
    "                    text = text + word\n",
    "text_processed = remove_punctuation(text)\n",
    "word_ch = jieba.lcut(text_processed,cut_all=False)\n",
    "word_count = Counter(word_ch)\n",
    "frequencies = [freq for (word, freq) in word_count.items()]\n",
    "\n",
    "# entropy\n",
    "entropy = 0\n",
    "for i in frequencies:\n",
    "    proba = i/sum(frequencies)\n",
    "    entropy += -proba*math.log2(proba)\n",
    "    \n",
    "# average entropy\n",
    "avg_entropy = entropy / len(frequencies)\n",
    "print(entropy)\n",
    "print(avg_entropy)"
   ]
  },
  {
   "cell_type": "code",
   "execution_count": null,
   "metadata": {},
   "outputs": [
    {
     "ename": "NameError",
     "evalue": "name 'os' is not defined",
     "output_type": "error",
     "traceback": [
      "\u001b[1;31m---------------------------------------------------------------------------\u001b[0m",
      "\u001b[1;31mNameError\u001b[0m                                 Traceback (most recent call last)",
      "Cell \u001b[1;32mIn[1], line 13\u001b[0m\n\u001b[0;32m     11\u001b[0m \u001b[38;5;28;01mfor\u001b[39;00m i \u001b[38;5;129;01min\u001b[39;00m \u001b[38;5;28mrange\u001b[39m(\u001b[38;5;241m10\u001b[39m):\n\u001b[0;32m     12\u001b[0m     \u001b[38;5;28;01mfor\u001b[39;00m n \u001b[38;5;129;01min\u001b[39;00m \u001b[38;5;28mrange\u001b[39m(\u001b[38;5;241m10\u001b[39m):\n\u001b[1;32m---> 13\u001b[0m         file_path \u001b[38;5;241m=\u001b[39m os\u001b[38;5;241m.\u001b[39mpath\u001b[38;5;241m.\u001b[39mjoin(folder_path,\u001b[38;5;28mstr\u001b[39m(\u001b[38;5;124m\"\u001b[39m\u001b[38;5;124mwiki_\u001b[39m\u001b[38;5;132;01m%s\u001b[39;00m\u001b[38;5;132;01m%s\u001b[39;00m\u001b[38;5;124m\"\u001b[39m\u001b[38;5;241m%\u001b[39m(\u001b[38;5;28mstr\u001b[39m(i),\u001b[38;5;28mstr\u001b[39m(n))))\n\u001b[0;32m     14\u001b[0m         \u001b[38;5;28;01mif\u001b[39;00m os\u001b[38;5;241m.\u001b[39mpath\u001b[38;5;241m.\u001b[39mexists(file_path):\n\u001b[0;32m     15\u001b[0m             file \u001b[38;5;241m=\u001b[39m \u001b[38;5;28mopen\u001b[39m(file_path,\u001b[38;5;124m\"\u001b[39m\u001b[38;5;124mr\u001b[39m\u001b[38;5;124m\"\u001b[39m,encoding\u001b[38;5;241m=\u001b[39m\u001b[38;5;124m\"\u001b[39m\u001b[38;5;124mutf-8\u001b[39m\u001b[38;5;124m\"\u001b[39m)\n",
      "\u001b[1;31mNameError\u001b[0m: name 'os' is not defined"
     ]
    }
   ],
   "source": [
    "import os\n",
    "import math\n",
    "import unicodedata\n",
    "import re\n",
    "from collections import Counter\n",
    "\n",
    "def is_chinese(word):\n",
    "    pattern = re.compile(r'^[\\u4e00-\\u9fa5\\u3000-\\u303F\\uFF00-\\uFFEF]+$')\n",
    "    return bool(pattern.match(word))\n",
    "def remove_punctuation(text):\n",
    "    return re.sub(r'[^\\u4e00-\\u9fa5\\w\\s]', '', text)\n",
    "\n",
    "text=\"\"\n",
    "for m in [\"A\",\"B\",\"C\",\"D\",\"E\",\"F\",\"G\",\"H\",\"I\",\"J\",\"K\",\"L\",\"M\"]:\n",
    "    input = r\"C:\\wiki_zh_2019\\wiki_zh\\A\"\n",
    "    folder_path = input + m\n",
    "    for i in range(10):\n",
    "        for n in range(10):\n",
    "            file_path = os.path.join(folder_path,str(\"wiki_%s%s\"%(str(i),str(n))))\n",
    "            if os.path.exists(file_path):\n",
    "                file = open(file_path,\"r\",encoding=\"utf-8\")\n",
    "            else:\n",
    "                line = \"\"\n",
    "                break\n",
    "            line = file.readline()\n",
    "            for word in line:\n",
    "                if is_chinese(word):\n",
    "                    text = text + word\n",
    "text_processed = remove_punctuation(text)\n",
    "word_count = Counter(text_processed)\n",
    "frequencies = [freq for (word, freq) in word_count.items()]\n",
    "entropy = 0\n",
    "for i in frequencies:\n",
    "    proba = i/sum(frequencies)\n",
    "    entropy += -proba*math.log2(proba)\n",
    "    \n",
    "#entropy\n",
    "avg_entropy = entropy / len(frequencies)\n",
    "print(entropy)\n",
    "print(avg_entropy)"
   ]
  }
 ],
 "metadata": {
  "kernelspec": {
   "display_name": "base",
   "language": "python",
   "name": "python3"
  },
  "language_info": {
   "codemirror_mode": {
    "name": "ipython",
    "version": 3
   },
   "file_extension": ".py",
   "mimetype": "text/x-python",
   "name": "python",
   "nbconvert_exporter": "python",
   "pygments_lexer": "ipython3",
   "version": "3.12.7"
  }
 },
 "nbformat": 4,
 "nbformat_minor": 2
}
